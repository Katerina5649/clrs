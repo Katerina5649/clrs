{
  "nbformat": 4,
  "nbformat_minor": 0,
  "metadata": {
    "colab": {
      "name": "clrs.ipynb",
      "provenance": [],
      "collapsed_sections": []
    },
    "kernelspec": {
      "name": "python3",
      "display_name": "Python 3"
    },
    "language_info": {
      "name": "python"
    }
  },
  "cells": [
    {
      "cell_type": "code",
      "execution_count": null,
      "metadata": {
        "id": "L8B9Xwc2XEZu"
      },
      "outputs": [],
      "source": [
        "from IPython.display import clear_output\n",
        "\n",
        "!git clone https://github.com/deepmind/clrs\n",
        "\n",
        "%cd clrs\n",
        "!pip install -r requirements/requirements.txt\n",
        "#!pip install dm-clrs\n",
        "#for assert\n",
        "!pip install chex\n",
        "\n",
        "clear_output(wait=False)"
      ]
    },
    {
      "cell_type": "code",
      "source": [
        "import clrs\n",
        "import importlib\n",
        "importlib.reload(clrs)\n",
        "import haiku as hk\n",
        "import jax\n",
        "import jax.numpy as jnp\n",
        "import numpy as np\n",
        "import importlib\n",
        "importlib.reload(clrs)\n",
        "from jax import random\n",
        "from jax import grad\n",
        "\n",
        "import haiku as hk\n",
        "import jax\n",
        "import jax.numpy as jnp\n",
        "import optax\n",
        "import numpy as np\n",
        "import pandas as pd\n",
        "import plotnine as gg\n",
        "\n",
        "batch_size = 1\n",
        "hidden_dim = 3\n",
        "nb_nodes = 3\n",
        "\n",
        "\n",
        "def loss_fn(data):\n",
        "  mlp = hk.Sequential([\n",
        "      clrs._src.processors.GATv2(10, 1)\n",
        "  ])\n",
        "\n",
        "\n",
        "  logits = mlp(data[0], data[1], data[2], data[3], data[4])\n",
        "  return jnp.mean(logits)\n",
        "\n",
        "loss_fn_t = hk.transform(loss_fn)\n",
        "\n",
        "node_fts = random.uniform(random.PRNGKey(0), shape = (batch_size, nb_nodes, hidden_dim))#jnp.zeros((batch_size, nb_nodes, hidden_dim))\n",
        "edge_fts = random.uniform(random.PRNGKey(0), shape = (batch_size, nb_nodes, nb_nodes, hidden_dim))#jnp.zeros((batch_size, nb_nodes, nb_nodes, hidden_dim))\n",
        "graph_fts = random.uniform(random.PRNGKey(0), shape = (batch_size, hidden_dim))#jnp.zeros((batch_size, hidden_dim))\n",
        "adj_mat = random.randint(random.PRNGKey(0), (batch_size, nb_nodes, nb_nodes), 0, 2, dtype='uint8')\n",
        "hiddens = jnp.zeros((batch_size, nb_nodes, hidden_dim))\n",
        "\n",
        "rng = jax.random.PRNGKey(42)\n",
        "data = (node_fts, edge_fts, graph_fts, adj_mat, hiddens)\n",
        "params = loss_fn_t.init(rng, data)\n",
        "\n",
        "\n",
        "def loss(params, data):\n",
        "  rng = jax.random.PRNGKey(42)\n",
        "  return loss_fn_t.apply(params, rng, data)\n",
        "\n",
        "def update(params, data, opt_state):\n",
        "  step_size = 0.1\n",
        "  rng = jax.random.PRNGKey(42)\n",
        "  l, grads = jax.value_and_grad(loss)(params, data)\n",
        "  grads, opt_state = opt.update(grads, opt_state)\n",
        "  params = optax.apply_updates(params, grads)\n",
        "  return l, params, opt_state\n",
        "\n",
        "opt = optax.adam(1e-3)\n",
        "opt_state = opt.init(params)\n",
        "\n",
        "\n",
        "train_loss, params, opt_state = update(params, data, opt_state)\n"
      ],
      "metadata": {
        "id": "QIkTXdznQiJX"
      },
      "execution_count": null,
      "outputs": []
    },
    {
      "cell_type": "code",
      "source": [
        "params.keys()"
      ],
      "metadata": {
        "colab": {
          "base_uri": "https://localhost:8080/"
        },
        "id": "d5JUZMZGUcP7",
        "outputId": "028ef5d0-bcd6-4dce-d705-ded6baf87ca9"
      },
      "execution_count": null,
      "outputs": [
        {
          "output_type": "execute_result",
          "data": {
            "text/plain": [
              "dict_keys(['gatv2_aggr/linear', 'gatv2_aggr/linear_1', 'gatv2_aggr/linear_2', 'gatv2_aggr/linear_3', 'gatv2_aggr/linear_4', 'gatv2_aggr/linear_5', 'gatv2_aggr/linear_6'])"
            ]
          },
          "metadata": {},
          "execution_count": 15
        }
      ]
    },
    {
      "cell_type": "code",
      "source": [
        ""
      ],
      "metadata": {
        "id": "CuNQNDXHXPfr"
      },
      "execution_count": null,
      "outputs": []
    },
    {
      "cell_type": "code",
      "source": [
        ""
      ],
      "metadata": {
        "id": "dQRqOAhWXNIZ"
      },
      "execution_count": null,
      "outputs": []
    }
  ]
}